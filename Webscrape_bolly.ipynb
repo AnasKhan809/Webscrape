{
 "cells": [
  {
   "cell_type": "markdown",
   "id": "f77404e4-e807-4daa-8c84-38d6ac62b305",
   "metadata": {},
   "source": [
    "## 1. Import Modules"
   ]
  },
  {
   "cell_type": "code",
   "execution_count": null,
   "id": "47adfaf3-fa47-48f4-a22e-8ca1c3dcc567",
   "metadata": {},
   "outputs": [],
   "source": [
    "from bs4 import BeautifulSoup\n",
    "import requests\n",
    "import pandas as pd"
   ]
  },
  {
   "cell_type": "markdown",
   "id": "497e847b-6c15-4513-824e-4e28f5776dfc",
   "metadata": {},
   "source": [
    "## 2. Request Page source from url"
   ]
  },
  {
   "cell_type": "code",
   "execution_count": null,
   "id": "55850191-23de-4d32-968c-4fe1b38baa38",
   "metadata": {},
   "outputs": [],
   "source": [
    "url = \"https://www.imdb.com/list/ls077629380/\""
   ]
  },
  {
   "cell_type": "markdown",
   "id": "fc129ad5-de76-404c-afc0-ad7a43dd6892",
   "metadata": {},
   "source": [
    "## 3. Defining Headers"
   ]
  },
  {
   "cell_type": "code",
   "execution_count": null,
   "id": "daebf81b-22e0-462d-b9d0-63f6f530160a",
   "metadata": {},
   "outputs": [],
   "source": [
    "HEADERS = {'User-Agent': 'Mozilla/5.0 (iPad; CPU OS 12_2 like Mac OS X) AppleWebKit/605.1.15 (KHTML, like Gecko) Mobile/15E148'}\n",
    "#A User-Agent header is defined to mimic a request from a web browser. This helps avoid being blocked by the website for making automated requests."
   ]
  },
  {
   "cell_type": "markdown",
   "id": "ff2e3697-9322-4bdc-89ae-9b6e061e72ce",
   "metadata": {},
   "source": [
    "## 4. Making the HTTP Request"
   ]
  },
  {
   "cell_type": "code",
   "execution_count": null,
   "id": "4376053a-fddc-407c-a0a2-626aad96de29",
   "metadata": {},
   "outputs": [],
   "source": [
    "page = request.get(url, headers=HEADERS)\n",
    "page"
   ]
  },
  {
   "cell_type": "markdown",
   "id": "6cd1d339-6273-4831-9a83-12435596fd82",
   "metadata": {},
   "source": [
    "## 5. Displaying the Page Source Code"
   ]
  },
  {
   "cell_type": "code",
   "execution_count": null,
   "id": "cb98bf1d-7d93-43b5-909f-86b0f9635470",
   "metadata": {},
   "outputs": [],
   "source": [
    "page.content"
   ]
  },
  {
   "cell_type": "markdown",
   "id": "5f6583bf-9142-4f61-9334-e4c1625183d8",
   "metadata": {},
   "source": [
    "## 6. Parsing the HTML Content"
   ]
  },
  {
   "cell_type": "code",
   "execution_count": null,
   "id": "6b79ee8d-5987-4ed8-afcf-05914a4f8230",
   "metadata": {},
   "outputs": [],
   "source": [
    "soup = BeautifulSoup(page.content, 'html.parser')\n",
    "print(soup.prettify()) #The prettify() method formats the HTML for better readability."
   ]
  },
  {
   "cell_type": "markdown",
   "id": "ada74a70-c1a3-4d0b-96b4-0cfea9a9d44d",
   "metadata": {},
   "source": [
    "## 7. Scraping Movie Names"
   ]
  },
  {
   "cell_type": "code",
   "execution_count": null,
   "id": "627c9111-96fa-44f8-bc60-076adc3b0a2d",
   "metadata": {},
   "outputs": [],
   "source": [
    "scraped_movies = soup.find_all(\"h3\", class_=\"ipc-title__text\")\n",
    "scraped_movies\n",
    "#This line searches for all <h3> tags with the class ipc-title__text, \n",
    "# which contain the movie titles. The results are stored in the scraped_movies list."
   ]
  },
  {
   "cell_type": "markdown",
   "id": "79a0729e-8f8d-487c-9a09-ea7ee18dcb35",
   "metadata": {},
   "source": [
    "## 8. Parsing Movie Names"
   ]
  },
  {
   "cell_type": "code",
   "execution_count": null,
   "id": "7217dafe-6092-4248-abb3-ac3c6b0d4770",
   "metadata": {},
   "outputs": [],
   "source": [
    "movies = []\n",
    "for movie in scraped_movies:\n",
    "    movies.append(movie.get_text().strip())\n",
    "movies"
   ]
  },
  {
   "cell_type": "markdown",
   "id": "461a6903-b42e-4159-b7ef-cdde3f17f65d",
   "metadata": {},
   "source": [
    "## 9. Scraping Movie Ratings"
   ]
  },
  {
   "cell_type": "code",
   "execution_count": null,
   "id": "09b8c2a2-6bfc-471c-9aed-a16926c1bcf7",
   "metadata": {},
   "outputs": [],
   "source": [
    "scraped_ratings = soup.find_all('span', class_=\"ipc-rating-star--rating\")\n",
    "scraped_ratings\n",
    "#Similar to the movie names, this line finds all <span> tags with the class ipc-rating-star--rating, which contain the movie ratings. \n",
    "#The results are stored in scraped_ratings."
   ]
  },
  {
   "cell_type": "markdown",
   "id": "d56f689b-1731-4661-b15f-18594e0904bf",
   "metadata": {},
   "source": [
    "## 10. Parsing Ratings"
   ]
  },
  {
   "cell_type": "code",
   "execution_count": null,
   "id": "44416954-e161-4cb3-a36c-cacda8556a5d",
   "metadata": {},
   "outputs": [],
   "source": [
    "ratings = []\n",
    "for rating in scraped_ratings:\n",
    "    ratings.append(rating.get_text())\n",
    "ratings"
   ]
  },
  {
   "cell_type": "markdown",
   "id": "7551f234-9086-4ae3-b0cf-56e977f48ca7",
   "metadata": {},
   "source": [
    "## 11. Validating Lengths of Movies and Ratings"
   ]
  },
  {
   "cell_type": "code",
   "execution_count": null,
   "id": "6fa8f194-4f48-48c5-b3cf-4a80625452bf",
   "metadata": {
    "editable": true,
    "slideshow": {
     "slide_type": ""
    },
    "tags": []
   },
   "outputs": [],
   "source": [
    "if len(movies) != len(ratings):\n",
    "    print('Movies length are not same as ratings')\n",
    "    if len(movies) > len(ratings):\n",
    "      movies = movies[:len(ratings)]\n",
    "    else:\n",
    "      ratings = ratings[:len(movies)]\n",
    "else:\n",
    "    print(\"Lenth are same\")"
   ]
  },
  {
   "cell_type": "markdown",
   "id": "1ce5fec9-d7f0-4c2b-8e01-e325dea3f59d",
   "metadata": {},
   "source": [
    "## 12. Creating a DataFrame"
   ]
  },
  {
   "cell_type": "code",
   "execution_count": null,
   "id": "8ca92cb1-0ee4-499c-8ab5-6c06fd03ab5e",
   "metadata": {},
   "outputs": [],
   "source": [
    "data = pd.DataFrame()\n",
    "data['Movies name'] = movies\n",
    "data['Ratings name'] = ratings\n",
    "data.head() #The head() method displays the first few rows of the DataFrame."
   ]
  },
  {
   "cell_type": "markdown",
   "id": "22122c63-bf51-45cf-8735-eae6948451c2",
   "metadata": {},
   "source": [
    "## 13. Saving Data to CSV"
   ]
  },
  {
   "cell_type": "code",
   "execution_count": null,
   "id": "a0a33ff6-1d77-4f07-9f08-161fb6de7a74",
   "metadata": {},
   "outputs": [],
   "source": [
    "data.to_csv('IMDB top Bollywood movies.csv', index=False)"
   ]
  },
  {
   "cell_type": "code",
   "execution_count": null,
   "id": "ded2c3c9-fbd0-477f-9a44-306d7e951e1d",
   "metadata": {},
   "outputs": [],
   "source": []
  }
 ],
 "metadata": {
  "kernelspec": {
   "display_name": "Python 3 (ipykernel)",
   "language": "python",
   "name": "python3"
  },
  "language_info": {
   "codemirror_mode": {
    "name": "ipython",
    "version": 3
   },
   "file_extension": ".py",
   "mimetype": "text/x-python",
   "name": "python",
   "nbconvert_exporter": "python",
   "pygments_lexer": "ipython3",
   "version": "3.12.2"
  }
 },
 "nbformat": 4,
 "nbformat_minor": 5
}
