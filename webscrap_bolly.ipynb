from bs4 import BeautifulSoup
import requests
import pandas as pd

url = "https://www.imdb.com/list/ls077629380/"

HEADERS = {'User-Agent': 'Mozilla/5.0 (iPad; CPU OS 12_2 like Mac OS X) AppleWebKit/605.1.15 (KHTML, like Gecko) Mobile/15E148'}

page = requests.get(url, headers=HEADERS)
page

## Display the page source code
page.content

soup = BeautifulSoup(page.content, "html.parser")
print(soup.prettify())

scraped_movies = soup.find_all('h3', class_ = 'ipc-title__text')
scraped_movies

# parse movie names
movies = []
for movie in scraped_movies:
    movies.append(movie.get_text().strip())
movies

# scrap rating for movies
scraped_ratings = soup.find_all('span', class_="ipc-rating-star--rating")
scraped_ratings

# parse ratings
ratings = []
for rating in scraped_ratings:
    ratings.append(rating.get_text())
ratings

if len(movies) != len(ratings):
    print('Movies length are not same as ratings')
    if len(movies) > len(ratings):
      movies = movies[:len(ratings)]
    else:
      ratings = ratings[:len(movies)]
else:
    print("Lenth are same")
		
data = pd.DataFrame()
data['Movie Names'] = movies
data['Ratings'] = ratings
data.head()

data.to_csv('IMDB top Bollywood movies.csv', index=False)
